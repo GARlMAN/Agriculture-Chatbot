{
 "cells": [
  {
   "cell_type": "code",
   "execution_count": 1,
   "id": "1546f072",
   "metadata": {},
   "outputs": [],
   "source": [
    "import json\n",
    "import random\n",
    "import pickle\n",
    "import numpy as np"
   ]
  },
  {
   "cell_type": "code",
   "execution_count": 2,
   "id": "f61c9e5b",
   "metadata": {},
   "outputs": [],
   "source": [
    "import nltk\n",
    "from nltk.stem import WordNetLemmatizer"
   ]
  },
  {
   "cell_type": "code",
   "execution_count": 3,
   "id": "bfe18c41",
   "metadata": {},
   "outputs": [],
   "source": [
    "import tensorflow as tf\n",
    "from tensorflow.keras import layers"
   ]
  },
  {
   "cell_type": "code",
   "execution_count": 4,
   "id": "91790904",
   "metadata": {},
   "outputs": [],
   "source": [
    "Lemmatizer = WordNetLemmatizer()"
   ]
  },
  {
   "cell_type": "code",
   "execution_count": 5,
   "id": "fe1e19af",
   "metadata": {},
   "outputs": [],
   "source": [
    "intents = json.loads(open('intent.json').read())"
   ]
  },
  {
   "cell_type": "code",
   "execution_count": 17,
   "id": "5984e4e9",
   "metadata": {},
   "outputs": [],
   "source": [
    "words = []\n",
    "classes = []\n",
    "documents = []\n",
    "ignore = ['!', '@', '#', '$', '%', '&', '(', ')',\n",
    "          '-,' '_', '[,' '],' '{', '}',\n",
    "          ';', ':', '.', '/', '<', '>', '?', \"'\"]"
   ]
  },
  {
   "cell_type": "code",
   "execution_count": 294,
   "id": "d761f9e8",
   "metadata": {},
   "outputs": [],
   "source": [
    "for intent in intents['intents']:\n",
    "    for pattern in intent['patterns']:\n",
    "        word_list = nltk.word_tokenize(pattern)\n",
    "        words.extend(word_list)\n",
    "        documents.append((word_list, intent['tag']))    \n",
    "        if intent['tag'] not in classes:\n",
    "            classes.append(intent['tag'])"
   ]
  },
  {
   "cell_type": "code",
   "execution_count": 295,
   "id": "e07a11d1",
   "metadata": {
    "scrolled": true
   },
   "outputs": [],
   "source": [
    "responses = {}\n",
    "for intent in intents['intents']:\n",
    "    responses[intent['tag']] = intent['responses']"
   ]
  },
  {
   "cell_type": "code",
   "execution_count": 296,
   "id": "1cfdcd06",
   "metadata": {},
   "outputs": [
    {
     "data": {
      "text/plain": [
       "'Hello'"
      ]
     },
     "execution_count": 296,
     "metadata": {},
     "output_type": "execute_result"
    }
   ],
   "source": [
    "responses['greetings'][0]"
   ]
  },
  {
   "cell_type": "code",
   "execution_count": 297,
   "id": "a13ce6ac",
   "metadata": {},
   "outputs": [],
   "source": [
    "words = [Lemmatizer.lemmatize(word.lower()) for word in words if word not in ignore]"
   ]
  },
  {
   "cell_type": "code",
   "execution_count": 301,
   "id": "508f9fb6",
   "metadata": {},
   "outputs": [
    {
     "data": {
      "text/plain": [
       "12"
      ]
     },
     "execution_count": 301,
     "metadata": {},
     "output_type": "execute_result"
    }
   ],
   "source": [
    "len(classes)"
   ]
  },
  {
   "cell_type": "code",
   "execution_count": 302,
   "id": "feda076d",
   "metadata": {},
   "outputs": [],
   "source": [
    "words = sorted(set(words))  #save words\n",
    "classes = sorted(set(classes))"
   ]
  },
  {
   "cell_type": "code",
   "execution_count": 303,
   "id": "b958f19d",
   "metadata": {},
   "outputs": [],
   "source": [
    "def imp_bag(string): #word to string helps me to covert\n",
    "    string = nltk.word_tokenize(string)\n",
    "    bag = []\n",
    "    word_pattern = [Lemmatizer.lemmatize(word.lower()) for word in words]\n",
    "    for word in words:\n",
    "        bag.append(1) if word in string else  bag.append(0)\n",
    "    return bag\n",
    "    "
   ]
  },
  {
   "cell_type": "code",
   "execution_count": 304,
   "id": "0b7807cd",
   "metadata": {},
   "outputs": [],
   "source": [
    "pickle.dump(words, open(\"words.pkl\", \"wb\"))\n",
    "pickle.dump(classes, open(\"classes.pkl\", \"wb\"))"
   ]
  },
  {
   "cell_type": "code",
   "execution_count": 305,
   "id": "93b84ec5",
   "metadata": {},
   "outputs": [],
   "source": [
    "training = []\n",
    "input_em = [0]*len(words)\n",
    "output_em = [0]*len(classes)"
   ]
  },
  {
   "cell_type": "code",
   "execution_count": 322,
   "id": "cbc44f3e",
   "metadata": {},
   "outputs": [
    {
     "data": {
      "text/plain": [
       "['bestcrop',\n",
       " 'cropprice',\n",
       " 'dieseases',\n",
       " 'farmingstuff',\n",
       " 'fertiliser ',\n",
       " 'goodbye',\n",
       " 'greetings',\n",
       " 'loans',\n",
       " 'name',\n",
       " 'noanswer',\n",
       " 'soil',\n",
       " 'thanks']"
      ]
     },
     "execution_count": 322,
     "metadata": {},
     "output_type": "execute_result"
    }
   ],
   "source": [
    "classes"
   ]
  },
  {
   "cell_type": "code",
   "execution_count": 307,
   "id": "d93e2d1a",
   "metadata": {},
   "outputs": [],
   "source": [
    "for index, document in enumerate(documents):\n",
    "    bag = []\n",
    "    word_pattern = document[0]\n",
    "    word_pattern = [Lemmatizer.lemmatize(word.lower()) for word in word_pattern]\n",
    "    for word in words:\n",
    "        bag.append(1) if word in word_pattern else  bag.append(0)\n",
    "    output_row = list(output_em)\n",
    "    output_row[classes.index(document[1])] = 1\n",
    "    training.append([bag, output_row])"
   ]
  },
  {
   "cell_type": "code",
   "execution_count": null,
   "id": "d96900fc",
   "metadata": {},
   "outputs": [],
   "source": []
  },
  {
   "cell_type": "code",
   "execution_count": 309,
   "id": "5b7c8cb3",
   "metadata": {},
   "outputs": [
    {
     "name": "stderr",
     "output_type": "stream",
     "text": [
      "C:\\Users\\garim\\AppData\\Local\\Temp\\ipykernel_5252\\3578359385.py:1: VisibleDeprecationWarning: Creating an ndarray from ragged nested sequences (which is a list-or-tuple of lists-or-tuples-or ndarrays with different lengths or shapes) is deprecated. If you meant to do this, you must specify 'dtype=object' when creating the ndarray.\n",
      "  training = np.array(training)\n"
     ]
    }
   ],
   "source": [
    "training = np.array(training)"
   ]
  },
  {
   "cell_type": "code",
   "execution_count": 310,
   "id": "edf61c3e",
   "metadata": {},
   "outputs": [],
   "source": [
    "train_x = list(training[:, 0])\n",
    "train_y = list(training[:, 1])"
   ]
  },
  {
   "cell_type": "code",
   "execution_count": 311,
   "id": "85d784d9",
   "metadata": {},
   "outputs": [],
   "source": [
    "model = tf.keras.Sequential()\n",
    "model.add(layers.Dense(128, input_shape=(len(train_x[0]),), activation='relu'))\n",
    "model.add(layers.Dropout(0.3))\n",
    "model.add(layers.Dense(64, activation='relu'))\n",
    "model.add(layers.Dropout(0.3))\n",
    "model.add(layers.Dense(len(train_y[0]), activation='softmax'))\n"
   ]
  },
  {
   "cell_type": "code",
   "execution_count": 312,
   "id": "b644c46c",
   "metadata": {},
   "outputs": [],
   "source": [
    "from sklearn.model_selection import train_test_split\n",
    "X_train, X_test, y_train, y_test = train_test_split(train_x,\n",
    "                                                   train_y,\n",
    "                                                   test_size=0.2, random_state=42)"
   ]
  },
  {
   "cell_type": "code",
   "execution_count": 313,
   "id": "bb49847b",
   "metadata": {},
   "outputs": [],
   "source": [
    "optimizer = tf.keras.optimizers.SGD()"
   ]
  },
  {
   "cell_type": "code",
   "execution_count": 314,
   "id": "6eba0067",
   "metadata": {},
   "outputs": [],
   "source": [
    "model.compile(loss='categorical_crossentropy', optimizer=optimizer, metrics=['accuracy'])"
   ]
  },
  {
   "cell_type": "code",
   "execution_count": 315,
   "id": "c7c09ac9",
   "metadata": {},
   "outputs": [
    {
     "name": "stdout",
     "output_type": "stream",
     "text": [
      "Epoch 1/200\n",
      "42/42 [==============================] - 1s 17ms/step - loss: 2.4720 - accuracy: 0.1095 - val_loss: 2.4299 - val_accuracy: 0.2381\n",
      "Epoch 2/200\n",
      "42/42 [==============================] - 0s 10ms/step - loss: 2.4197 - accuracy: 0.2286 - val_loss: 2.3890 - val_accuracy: 0.3571\n",
      "Epoch 3/200\n",
      "42/42 [==============================] - 0s 10ms/step - loss: 2.3761 - accuracy: 0.2667 - val_loss: 2.3469 - val_accuracy: 0.2857\n",
      "Epoch 4/200\n",
      "42/42 [==============================] - 0s 10ms/step - loss: 2.3328 - accuracy: 0.3095 - val_loss: 2.3022 - val_accuracy: 0.3571\n",
      "Epoch 5/200\n",
      "42/42 [==============================] - 0s 10ms/step - loss: 2.2671 - accuracy: 0.3952 - val_loss: 2.2549 - val_accuracy: 0.3571\n",
      "Epoch 6/200\n",
      "42/42 [==============================] - 0s 10ms/step - loss: 2.2282 - accuracy: 0.3857 - val_loss: 2.2061 - val_accuracy: 0.4286\n",
      "Epoch 7/200\n",
      "42/42 [==============================] - 0s 10ms/step - loss: 2.1647 - accuracy: 0.3952 - val_loss: 2.1519 - val_accuracy: 0.4286\n",
      "Epoch 8/200\n",
      "42/42 [==============================] - 0s 10ms/step - loss: 2.1069 - accuracy: 0.4381 - val_loss: 2.0945 - val_accuracy: 0.4286\n",
      "Epoch 9/200\n",
      "42/42 [==============================] - 0s 10ms/step - loss: 2.0567 - accuracy: 0.3905 - val_loss: 2.0363 - val_accuracy: 0.4524\n",
      "Epoch 10/200\n",
      "42/42 [==============================] - 0s 10ms/step - loss: 1.9664 - accuracy: 0.5000 - val_loss: 1.9709 - val_accuracy: 0.5476\n",
      "Epoch 11/200\n",
      "42/42 [==============================] - 0s 10ms/step - loss: 1.9120 - accuracy: 0.4810 - val_loss: 1.9059 - val_accuracy: 0.6190\n",
      "Epoch 12/200\n",
      "42/42 [==============================] - 0s 10ms/step - loss: 1.8448 - accuracy: 0.5048 - val_loss: 1.8365 - val_accuracy: 0.6190\n",
      "Epoch 13/200\n",
      "42/42 [==============================] - 0s 10ms/step - loss: 1.8013 - accuracy: 0.4952 - val_loss: 1.7671 - val_accuracy: 0.6190\n",
      "Epoch 14/200\n",
      "42/42 [==============================] - 0s 10ms/step - loss: 1.7254 - accuracy: 0.5333 - val_loss: 1.6946 - val_accuracy: 0.6190\n",
      "Epoch 15/200\n",
      "42/42 [==============================] - 0s 10ms/step - loss: 1.5878 - accuracy: 0.6095 - val_loss: 1.6167 - val_accuracy: 0.6429\n",
      "Epoch 16/200\n",
      "42/42 [==============================] - 0s 10ms/step - loss: 1.5981 - accuracy: 0.5810 - val_loss: 1.5468 - val_accuracy: 0.6905\n",
      "Epoch 17/200\n",
      "42/42 [==============================] - 0s 10ms/step - loss: 1.5142 - accuracy: 0.5810 - val_loss: 1.4724 - val_accuracy: 0.7143\n",
      "Epoch 18/200\n",
      "42/42 [==============================] - 0s 9ms/step - loss: 1.4608 - accuracy: 0.6048 - val_loss: 1.4042 - val_accuracy: 0.7381\n",
      "Epoch 19/200\n",
      "42/42 [==============================] - 0s 10ms/step - loss: 1.3677 - accuracy: 0.6619 - val_loss: 1.3306 - val_accuracy: 0.7381\n",
      "Epoch 20/200\n",
      "42/42 [==============================] - 0s 10ms/step - loss: 1.3110 - accuracy: 0.6905 - val_loss: 1.2575 - val_accuracy: 0.7857\n",
      "Epoch 21/200\n",
      "42/42 [==============================] - 0s 10ms/step - loss: 1.2347 - accuracy: 0.6905 - val_loss: 1.1835 - val_accuracy: 0.7857\n",
      "Epoch 22/200\n",
      "42/42 [==============================] - 0s 10ms/step - loss: 1.1902 - accuracy: 0.7048 - val_loss: 1.1172 - val_accuracy: 0.7857\n",
      "Epoch 23/200\n",
      "42/42 [==============================] - 0s 10ms/step - loss: 1.1313 - accuracy: 0.7238 - val_loss: 1.0515 - val_accuracy: 0.7857\n",
      "Epoch 24/200\n",
      "42/42 [==============================] - 0s 10ms/step - loss: 1.0679 - accuracy: 0.7381 - val_loss: 0.9899 - val_accuracy: 0.7857\n",
      "Epoch 25/200\n",
      "42/42 [==============================] - 0s 11ms/step - loss: 1.0379 - accuracy: 0.7667 - val_loss: 0.9282 - val_accuracy: 0.8095\n",
      "Epoch 26/200\n",
      "42/42 [==============================] - 0s 11ms/step - loss: 0.9858 - accuracy: 0.7857 - val_loss: 0.8728 - val_accuracy: 0.8095\n",
      "Epoch 27/200\n",
      "42/42 [==============================] - 0s 10ms/step - loss: 0.9273 - accuracy: 0.8000 - val_loss: 0.8185 - val_accuracy: 0.8571\n",
      "Epoch 28/200\n",
      "42/42 [==============================] - 0s 10ms/step - loss: 0.8978 - accuracy: 0.8095 - val_loss: 0.7629 - val_accuracy: 0.9286\n",
      "Epoch 29/200\n",
      "42/42 [==============================] - 0s 10ms/step - loss: 0.8459 - accuracy: 0.8048 - val_loss: 0.7140 - val_accuracy: 0.9762\n",
      "Epoch 30/200\n",
      "42/42 [==============================] - 0s 10ms/step - loss: 0.7605 - accuracy: 0.8429 - val_loss: 0.6681 - val_accuracy: 0.9762\n",
      "Epoch 31/200\n",
      "42/42 [==============================] - 0s 10ms/step - loss: 0.7341 - accuracy: 0.8714 - val_loss: 0.6211 - val_accuracy: 0.9762\n",
      "Epoch 32/200\n",
      "42/42 [==============================] - 0s 10ms/step - loss: 0.7032 - accuracy: 0.8619 - val_loss: 0.5742 - val_accuracy: 0.9762\n",
      "Epoch 33/200\n",
      "42/42 [==============================] - 0s 10ms/step - loss: 0.6586 - accuracy: 0.8810 - val_loss: 0.5352 - val_accuracy: 0.9762\n",
      "Epoch 34/200\n",
      "42/42 [==============================] - 0s 10ms/step - loss: 0.6820 - accuracy: 0.8571 - val_loss: 0.4985 - val_accuracy: 1.0000\n",
      "Epoch 35/200\n",
      "42/42 [==============================] - 0s 10ms/step - loss: 0.6016 - accuracy: 0.9143 - val_loss: 0.4625 - val_accuracy: 1.0000\n",
      "Epoch 36/200\n",
      "42/42 [==============================] - 0s 10ms/step - loss: 0.5742 - accuracy: 0.8857 - val_loss: 0.4317 - val_accuracy: 1.0000\n",
      "Epoch 37/200\n",
      "42/42 [==============================] - 0s 9ms/step - loss: 0.5387 - accuracy: 0.8905 - val_loss: 0.4010 - val_accuracy: 1.0000\n",
      "Epoch 38/200\n",
      "42/42 [==============================] - 0s 10ms/step - loss: 0.5281 - accuracy: 0.9143 - val_loss: 0.3731 - val_accuracy: 1.0000\n",
      "Epoch 39/200\n",
      "42/42 [==============================] - 0s 10ms/step - loss: 0.5134 - accuracy: 0.9238 - val_loss: 0.3482 - val_accuracy: 1.0000\n",
      "Epoch 40/200\n",
      "42/42 [==============================] - 0s 10ms/step - loss: 0.4232 - accuracy: 0.9762 - val_loss: 0.3213 - val_accuracy: 1.0000\n",
      "Epoch 41/200\n",
      "42/42 [==============================] - 0s 10ms/step - loss: 0.4671 - accuracy: 0.9524 - val_loss: 0.2995 - val_accuracy: 1.0000\n",
      "Epoch 42/200\n",
      "42/42 [==============================] - 0s 10ms/step - loss: 0.4300 - accuracy: 0.9619 - val_loss: 0.2791 - val_accuracy: 1.0000\n",
      "Epoch 43/200\n",
      "42/42 [==============================] - 0s 10ms/step - loss: 0.4301 - accuracy: 0.9381 - val_loss: 0.2605 - val_accuracy: 1.0000\n",
      "Epoch 44/200\n",
      "42/42 [==============================] - 0s 10ms/step - loss: 0.4042 - accuracy: 0.9476 - val_loss: 0.2433 - val_accuracy: 1.0000\n",
      "Epoch 45/200\n",
      "42/42 [==============================] - 0s 10ms/step - loss: 0.3758 - accuracy: 0.9524 - val_loss: 0.2263 - val_accuracy: 1.0000\n",
      "Epoch 46/200\n",
      "42/42 [==============================] - 0s 10ms/step - loss: 0.3665 - accuracy: 0.9619 - val_loss: 0.2095 - val_accuracy: 1.0000\n",
      "Epoch 47/200\n",
      "42/42 [==============================] - 0s 10ms/step - loss: 0.3332 - accuracy: 0.9667 - val_loss: 0.1952 - val_accuracy: 1.0000\n",
      "Epoch 48/200\n",
      "42/42 [==============================] - 0s 10ms/step - loss: 0.3069 - accuracy: 0.9762 - val_loss: 0.1828 - val_accuracy: 1.0000\n",
      "Epoch 49/200\n",
      "42/42 [==============================] - 0s 10ms/step - loss: 0.2918 - accuracy: 0.9667 - val_loss: 0.1704 - val_accuracy: 1.0000\n",
      "Epoch 50/200\n",
      "42/42 [==============================] - 0s 10ms/step - loss: 0.2737 - accuracy: 0.9714 - val_loss: 0.1581 - val_accuracy: 1.0000\n",
      "Epoch 51/200\n",
      "42/42 [==============================] - 0s 10ms/step - loss: 0.2641 - accuracy: 0.9810 - val_loss: 0.1489 - val_accuracy: 1.0000\n",
      "Epoch 52/200\n",
      "42/42 [==============================] - 0s 10ms/step - loss: 0.3065 - accuracy: 0.9714 - val_loss: 0.1379 - val_accuracy: 1.0000\n",
      "Epoch 53/200\n",
      "42/42 [==============================] - 0s 10ms/step - loss: 0.2706 - accuracy: 0.9857 - val_loss: 0.1279 - val_accuracy: 1.0000\n",
      "Epoch 54/200\n",
      "42/42 [==============================] - 0s 10ms/step - loss: 0.2749 - accuracy: 0.9619 - val_loss: 0.1218 - val_accuracy: 1.0000\n",
      "Epoch 55/200\n",
      "42/42 [==============================] - 0s 10ms/step - loss: 0.2463 - accuracy: 0.9810 - val_loss: 0.1154 - val_accuracy: 1.0000\n",
      "Epoch 56/200\n",
      "42/42 [==============================] - 0s 10ms/step - loss: 0.2331 - accuracy: 0.9810 - val_loss: 0.1093 - val_accuracy: 1.0000\n",
      "Epoch 57/200\n",
      "42/42 [==============================] - 0s 10ms/step - loss: 0.2017 - accuracy: 0.9905 - val_loss: 0.1011 - val_accuracy: 1.0000\n",
      "Epoch 58/200\n"
     ]
    },
    {
     "name": "stdout",
     "output_type": "stream",
     "text": [
      "42/42 [==============================] - 0s 10ms/step - loss: 0.2013 - accuracy: 0.9857 - val_loss: 0.0949 - val_accuracy: 1.0000\n",
      "Epoch 59/200\n",
      "42/42 [==============================] - 0s 10ms/step - loss: 0.2056 - accuracy: 0.9857 - val_loss: 0.0888 - val_accuracy: 1.0000\n",
      "Epoch 60/200\n",
      "42/42 [==============================] - 0s 10ms/step - loss: 0.2029 - accuracy: 0.9905 - val_loss: 0.0840 - val_accuracy: 1.0000\n",
      "Epoch 61/200\n",
      "42/42 [==============================] - 0s 10ms/step - loss: 0.2131 - accuracy: 0.9524 - val_loss: 0.0791 - val_accuracy: 1.0000\n",
      "Epoch 62/200\n",
      "42/42 [==============================] - 0s 10ms/step - loss: 0.1777 - accuracy: 0.9905 - val_loss: 0.0753 - val_accuracy: 1.0000\n",
      "Epoch 63/200\n",
      "42/42 [==============================] - 0s 10ms/step - loss: 0.1598 - accuracy: 0.9857 - val_loss: 0.0712 - val_accuracy: 1.0000\n",
      "Epoch 64/200\n",
      "42/42 [==============================] - 0s 11ms/step - loss: 0.1644 - accuracy: 0.9810 - val_loss: 0.0672 - val_accuracy: 1.0000\n",
      "Epoch 65/200\n",
      "42/42 [==============================] - 0s 10ms/step - loss: 0.1499 - accuracy: 0.9810 - val_loss: 0.0630 - val_accuracy: 1.0000\n",
      "Epoch 66/200\n",
      "42/42 [==============================] - 0s 10ms/step - loss: 0.1504 - accuracy: 0.9952 - val_loss: 0.0600 - val_accuracy: 1.0000\n",
      "Epoch 67/200\n",
      "42/42 [==============================] - 0s 10ms/step - loss: 0.1468 - accuracy: 0.9857 - val_loss: 0.0565 - val_accuracy: 1.0000\n",
      "Epoch 68/200\n",
      "42/42 [==============================] - 0s 10ms/step - loss: 0.1546 - accuracy: 0.9905 - val_loss: 0.0534 - val_accuracy: 1.0000\n",
      "Epoch 69/200\n",
      "42/42 [==============================] - 0s 10ms/step - loss: 0.1442 - accuracy: 0.9905 - val_loss: 0.0511 - val_accuracy: 1.0000\n",
      "Epoch 70/200\n",
      "42/42 [==============================] - 0s 10ms/step - loss: 0.1429 - accuracy: 0.9905 - val_loss: 0.0494 - val_accuracy: 1.0000\n",
      "Epoch 71/200\n",
      "42/42 [==============================] - 0s 10ms/step - loss: 0.1319 - accuracy: 0.9905 - val_loss: 0.0459 - val_accuracy: 1.0000\n",
      "Epoch 72/200\n",
      "42/42 [==============================] - 0s 10ms/step - loss: 0.1554 - accuracy: 0.9810 - val_loss: 0.0433 - val_accuracy: 1.0000\n",
      "Epoch 73/200\n",
      "42/42 [==============================] - 0s 10ms/step - loss: 0.1426 - accuracy: 0.9857 - val_loss: 0.0416 - val_accuracy: 1.0000\n",
      "Epoch 74/200\n",
      "42/42 [==============================] - 0s 10ms/step - loss: 0.1219 - accuracy: 0.9952 - val_loss: 0.0394 - val_accuracy: 1.0000\n",
      "Epoch 75/200\n",
      "42/42 [==============================] - 0s 10ms/step - loss: 0.1094 - accuracy: 0.9952 - val_loss: 0.0379 - val_accuracy: 1.0000\n",
      "Epoch 76/200\n",
      "42/42 [==============================] - 0s 10ms/step - loss: 0.1215 - accuracy: 0.9810 - val_loss: 0.0364 - val_accuracy: 1.0000\n",
      "Epoch 77/200\n",
      "42/42 [==============================] - 0s 10ms/step - loss: 0.1006 - accuracy: 0.9857 - val_loss: 0.0345 - val_accuracy: 1.0000\n",
      "Epoch 78/200\n",
      "42/42 [==============================] - 0s 10ms/step - loss: 0.1318 - accuracy: 0.9810 - val_loss: 0.0333 - val_accuracy: 1.0000\n",
      "Epoch 79/200\n",
      "42/42 [==============================] - 0s 9ms/step - loss: 0.1058 - accuracy: 0.9952 - val_loss: 0.0318 - val_accuracy: 1.0000\n",
      "Epoch 80/200\n",
      "42/42 [==============================] - 0s 10ms/step - loss: 0.1264 - accuracy: 0.9857 - val_loss: 0.0303 - val_accuracy: 1.0000\n",
      "Epoch 81/200\n",
      "42/42 [==============================] - 0s 11ms/step - loss: 0.1167 - accuracy: 0.9952 - val_loss: 0.0288 - val_accuracy: 1.0000\n",
      "Epoch 82/200\n",
      "42/42 [==============================] - 0s 10ms/step - loss: 0.1037 - accuracy: 0.9905 - val_loss: 0.0278 - val_accuracy: 1.0000\n",
      "Epoch 83/200\n",
      "42/42 [==============================] - 0s 10ms/step - loss: 0.1023 - accuracy: 0.9857 - val_loss: 0.0269 - val_accuracy: 1.0000\n",
      "Epoch 84/200\n",
      "42/42 [==============================] - 0s 10ms/step - loss: 0.1106 - accuracy: 0.9857 - val_loss: 0.0258 - val_accuracy: 1.0000\n",
      "Epoch 85/200\n",
      "42/42 [==============================] - 0s 10ms/step - loss: 0.0935 - accuracy: 0.9952 - val_loss: 0.0248 - val_accuracy: 1.0000\n",
      "Epoch 86/200\n",
      "42/42 [==============================] - 0s 10ms/step - loss: 0.0988 - accuracy: 0.9905 - val_loss: 0.0240 - val_accuracy: 1.0000\n",
      "Epoch 87/200\n",
      "42/42 [==============================] - 0s 10ms/step - loss: 0.0794 - accuracy: 1.0000 - val_loss: 0.0227 - val_accuracy: 1.0000\n",
      "Epoch 88/200\n",
      " 1/42 [..............................] - ETA: 0s - loss: 0.0681 - accuracy: 1.0000"
     ]
    },
    {
     "ename": "KeyboardInterrupt",
     "evalue": "",
     "output_type": "error",
     "traceback": [
      "\u001b[1;31m---------------------------------------------------------------------------\u001b[0m",
      "\u001b[1;31mKeyboardInterrupt\u001b[0m                         Traceback (most recent call last)",
      "Input \u001b[1;32mIn [315]\u001b[0m, in \u001b[0;36m<cell line: 1>\u001b[1;34m()\u001b[0m\n\u001b[1;32m----> 1\u001b[0m \u001b[43mmodel\u001b[49m\u001b[38;5;241;43m.\u001b[39;49m\u001b[43mfit\u001b[49m\u001b[43m(\u001b[49m\u001b[43mnp\u001b[49m\u001b[38;5;241;43m.\u001b[39;49m\u001b[43marray\u001b[49m\u001b[43m(\u001b[49m\u001b[43mtrain_x\u001b[49m\u001b[43m)\u001b[49m\u001b[43m,\u001b[49m\u001b[43m \u001b[49m\u001b[43mnp\u001b[49m\u001b[38;5;241;43m.\u001b[39;49m\u001b[43marray\u001b[49m\u001b[43m(\u001b[49m\u001b[43mtrain_y\u001b[49m\u001b[43m)\u001b[49m\u001b[43m,\u001b[49m\u001b[43m \u001b[49m\u001b[43mepochs\u001b[49m\u001b[38;5;241;43m=\u001b[39;49m\u001b[38;5;241;43m200\u001b[39;49m\u001b[43m,\u001b[49m\u001b[43m \u001b[49m\u001b[43mbatch_size\u001b[49m\u001b[38;5;241;43m=\u001b[39;49m\u001b[38;5;241;43m5\u001b[39;49m\u001b[43m,\u001b[49m\u001b[43m \u001b[49m\u001b[43mverbose\u001b[49m\u001b[38;5;241;43m=\u001b[39;49m\u001b[38;5;241;43m1\u001b[39;49m\u001b[43m,\u001b[49m\u001b[43m \u001b[49m\u001b[43mvalidation_data\u001b[49m\u001b[38;5;241;43m=\u001b[39;49m\u001b[43m(\u001b[49m\u001b[43mX_test\u001b[49m\u001b[43m,\u001b[49m\u001b[43m \u001b[49m\u001b[43my_test\u001b[49m\u001b[43m)\u001b[49m\u001b[43m)\u001b[49m\n",
      "File \u001b[1;32mD:\\code\\code\\envs\\tensorflow\\lib\\site-packages\\keras\\utils\\traceback_utils.py:64\u001b[0m, in \u001b[0;36mfilter_traceback.<locals>.error_handler\u001b[1;34m(*args, **kwargs)\u001b[0m\n\u001b[0;32m     62\u001b[0m filtered_tb \u001b[38;5;241m=\u001b[39m \u001b[38;5;28;01mNone\u001b[39;00m\n\u001b[0;32m     63\u001b[0m \u001b[38;5;28;01mtry\u001b[39;00m:\n\u001b[1;32m---> 64\u001b[0m   \u001b[38;5;28;01mreturn\u001b[39;00m fn(\u001b[38;5;241m*\u001b[39margs, \u001b[38;5;241m*\u001b[39m\u001b[38;5;241m*\u001b[39mkwargs)\n\u001b[0;32m     65\u001b[0m \u001b[38;5;28;01mexcept\u001b[39;00m \u001b[38;5;167;01mException\u001b[39;00m \u001b[38;5;28;01mas\u001b[39;00m e:  \u001b[38;5;66;03m# pylint: disable=broad-except\u001b[39;00m\n\u001b[0;32m     66\u001b[0m   filtered_tb \u001b[38;5;241m=\u001b[39m _process_traceback_frames(e\u001b[38;5;241m.\u001b[39m__traceback__)\n",
      "File \u001b[1;32mD:\\code\\code\\envs\\tensorflow\\lib\\site-packages\\keras\\engine\\training.py:1401\u001b[0m, in \u001b[0;36mModel.fit\u001b[1;34m(self, x, y, batch_size, epochs, verbose, callbacks, validation_split, validation_data, shuffle, class_weight, sample_weight, initial_epoch, steps_per_epoch, validation_steps, validation_batch_size, validation_freq, max_queue_size, workers, use_multiprocessing)\u001b[0m\n\u001b[0;32m   1399\u001b[0m \u001b[38;5;28;01mwith\u001b[39;00m data_handler\u001b[38;5;241m.\u001b[39mcatch_stop_iteration():\n\u001b[0;32m   1400\u001b[0m   data_handler\u001b[38;5;241m.\u001b[39m_initial_step \u001b[38;5;241m=\u001b[39m \u001b[38;5;28mself\u001b[39m\u001b[38;5;241m.\u001b[39m_maybe_load_initial_step_from_ckpt()  \u001b[38;5;66;03m# pylint: disable=protected-access\u001b[39;00m\n\u001b[1;32m-> 1401\u001b[0m   \u001b[38;5;28;01mfor\u001b[39;00m step \u001b[38;5;129;01min\u001b[39;00m data_handler\u001b[38;5;241m.\u001b[39msteps():\n\u001b[0;32m   1402\u001b[0m     \u001b[38;5;28;01mwith\u001b[39;00m tf\u001b[38;5;241m.\u001b[39mprofiler\u001b[38;5;241m.\u001b[39mexperimental\u001b[38;5;241m.\u001b[39mTrace(\n\u001b[0;32m   1403\u001b[0m         \u001b[38;5;124m'\u001b[39m\u001b[38;5;124mtrain\u001b[39m\u001b[38;5;124m'\u001b[39m,\n\u001b[0;32m   1404\u001b[0m         epoch_num\u001b[38;5;241m=\u001b[39mepoch,\n\u001b[0;32m   1405\u001b[0m         step_num\u001b[38;5;241m=\u001b[39mstep,\n\u001b[0;32m   1406\u001b[0m         batch_size\u001b[38;5;241m=\u001b[39mbatch_size,\n\u001b[0;32m   1407\u001b[0m         _r\u001b[38;5;241m=\u001b[39m\u001b[38;5;241m1\u001b[39m):\n\u001b[0;32m   1408\u001b[0m       callbacks\u001b[38;5;241m.\u001b[39mon_train_batch_begin(step)\n",
      "File \u001b[1;32mD:\\code\\code\\envs\\tensorflow\\lib\\site-packages\\keras\\engine\\data_adapter.py:1248\u001b[0m, in \u001b[0;36mDataHandler.steps\u001b[1;34m(self)\u001b[0m\n\u001b[0;32m   1246\u001b[0m \u001b[38;5;28;01mif\u001b[39;00m \u001b[38;5;28mself\u001b[39m\u001b[38;5;241m.\u001b[39m_insufficient_data:  \u001b[38;5;66;03m# Set by `catch_stop_iteration`.\u001b[39;00m\n\u001b[0;32m   1247\u001b[0m   \u001b[38;5;28;01mbreak\u001b[39;00m\n\u001b[1;32m-> 1248\u001b[0m original_spe \u001b[38;5;241m=\u001b[39m \u001b[38;5;28;43mself\u001b[39;49m\u001b[38;5;241;43m.\u001b[39;49m\u001b[43m_steps_per_execution\u001b[49m\u001b[38;5;241;43m.\u001b[39;49m\u001b[43mnumpy\u001b[49m\u001b[43m(\u001b[49m\u001b[43m)\u001b[49m\u001b[38;5;241m.\u001b[39mitem()\n\u001b[0;32m   1249\u001b[0m can_run_full_execution \u001b[38;5;241m=\u001b[39m (\n\u001b[0;32m   1250\u001b[0m     original_spe \u001b[38;5;241m==\u001b[39m \u001b[38;5;241m1\u001b[39m \u001b[38;5;129;01mor\u001b[39;00m\n\u001b[0;32m   1251\u001b[0m     \u001b[38;5;28mself\u001b[39m\u001b[38;5;241m.\u001b[39m_inferred_steps \u001b[38;5;129;01mis\u001b[39;00m \u001b[38;5;28;01mNone\u001b[39;00m \u001b[38;5;129;01mor\u001b[39;00m\n\u001b[0;32m   1252\u001b[0m     \u001b[38;5;28mself\u001b[39m\u001b[38;5;241m.\u001b[39m_inferred_steps \u001b[38;5;241m-\u001b[39m \u001b[38;5;28mself\u001b[39m\u001b[38;5;241m.\u001b[39m_current_step \u001b[38;5;241m>\u001b[39m\u001b[38;5;241m=\u001b[39m\n\u001b[0;32m   1253\u001b[0m     original_spe)\n\u001b[0;32m   1255\u001b[0m \u001b[38;5;28;01mif\u001b[39;00m can_run_full_execution:\n",
      "File \u001b[1;32mD:\\code\\code\\envs\\tensorflow\\lib\\site-packages\\tensorflow\\python\\ops\\resource_variable_ops.py:637\u001b[0m, in \u001b[0;36mBaseResourceVariable.numpy\u001b[1;34m(self)\u001b[0m\n\u001b[0;32m    635\u001b[0m \u001b[38;5;28;01mdef\u001b[39;00m \u001b[38;5;21mnumpy\u001b[39m(\u001b[38;5;28mself\u001b[39m):\n\u001b[0;32m    636\u001b[0m   \u001b[38;5;28;01mif\u001b[39;00m context\u001b[38;5;241m.\u001b[39mexecuting_eagerly():\n\u001b[1;32m--> 637\u001b[0m     \u001b[38;5;28;01mreturn\u001b[39;00m \u001b[38;5;28;43mself\u001b[39;49m\u001b[38;5;241;43m.\u001b[39;49m\u001b[43mread_value\u001b[49m\u001b[43m(\u001b[49m\u001b[43m)\u001b[49m\u001b[38;5;241m.\u001b[39mnumpy()\n\u001b[0;32m    638\u001b[0m   \u001b[38;5;28;01mraise\u001b[39;00m \u001b[38;5;167;01mNotImplementedError\u001b[39;00m(\n\u001b[0;32m    639\u001b[0m       \u001b[38;5;124m\"\u001b[39m\u001b[38;5;124mnumpy() is only available when eager execution is enabled.\u001b[39m\u001b[38;5;124m\"\u001b[39m)\n",
      "File \u001b[1;32mD:\\code\\code\\envs\\tensorflow\\lib\\site-packages\\tensorflow\\python\\ops\\resource_variable_ops.py:712\u001b[0m, in \u001b[0;36mBaseResourceVariable.read_value\u001b[1;34m(self)\u001b[0m\n\u001b[0;32m    703\u001b[0m \u001b[38;5;124;03m\"\"\"Constructs an op which reads the value of this variable.\u001b[39;00m\n\u001b[0;32m    704\u001b[0m \n\u001b[0;32m    705\u001b[0m \u001b[38;5;124;03mShould be used when there are multiple reads, or when it is desirable to\u001b[39;00m\n\u001b[1;32m   (...)\u001b[0m\n\u001b[0;32m    709\u001b[0m \u001b[38;5;124;03m the read operation.\u001b[39;00m\n\u001b[0;32m    710\u001b[0m \u001b[38;5;124;03m\"\"\"\u001b[39;00m\n\u001b[0;32m    711\u001b[0m \u001b[38;5;28;01mwith\u001b[39;00m ops\u001b[38;5;241m.\u001b[39mname_scope(\u001b[38;5;124m\"\u001b[39m\u001b[38;5;124mRead\u001b[39m\u001b[38;5;124m\"\u001b[39m):\n\u001b[1;32m--> 712\u001b[0m   value \u001b[38;5;241m=\u001b[39m \u001b[38;5;28;43mself\u001b[39;49m\u001b[38;5;241;43m.\u001b[39;49m\u001b[43m_read_variable_op\u001b[49m\u001b[43m(\u001b[49m\u001b[43m)\u001b[49m\n\u001b[0;32m    713\u001b[0m \u001b[38;5;66;03m# Return an identity so it can get placed on whatever device the context\u001b[39;00m\n\u001b[0;32m    714\u001b[0m \u001b[38;5;66;03m# specifies instead of the device where the variable is.\u001b[39;00m\n\u001b[0;32m    715\u001b[0m \u001b[38;5;28;01mreturn\u001b[39;00m array_ops\u001b[38;5;241m.\u001b[39midentity(value)\n",
      "File \u001b[1;32mD:\\code\\code\\envs\\tensorflow\\lib\\site-packages\\tensorflow\\python\\ops\\resource_variable_ops.py:691\u001b[0m, in \u001b[0;36mBaseResourceVariable._read_variable_op\u001b[1;34m(self)\u001b[0m\n\u001b[0;32m    689\u001b[0m       result \u001b[38;5;241m=\u001b[39m read_and_set_handle()\n\u001b[0;32m    690\u001b[0m \u001b[38;5;28;01melse\u001b[39;00m:\n\u001b[1;32m--> 691\u001b[0m   result \u001b[38;5;241m=\u001b[39m \u001b[43mread_and_set_handle\u001b[49m\u001b[43m(\u001b[49m\u001b[43m)\u001b[49m\n\u001b[0;32m    693\u001b[0m \u001b[38;5;28;01mif\u001b[39;00m \u001b[38;5;129;01mnot\u001b[39;00m context\u001b[38;5;241m.\u001b[39mexecuting_eagerly():\n\u001b[0;32m    694\u001b[0m   \u001b[38;5;66;03m# Note that if a control flow context is active the input of the read op\u001b[39;00m\n\u001b[0;32m    695\u001b[0m   \u001b[38;5;66;03m# might not actually be the handle. This line bypasses it.\u001b[39;00m\n\u001b[0;32m    696\u001b[0m   tape\u001b[38;5;241m.\u001b[39mrecord_operation(\n\u001b[0;32m    697\u001b[0m       \u001b[38;5;124m\"\u001b[39m\u001b[38;5;124mReadVariableOp\u001b[39m\u001b[38;5;124m\"\u001b[39m, [result], [\u001b[38;5;28mself\u001b[39m\u001b[38;5;241m.\u001b[39mhandle],\n\u001b[0;32m    698\u001b[0m       backward_function\u001b[38;5;241m=\u001b[39m\u001b[38;5;28;01mlambda\u001b[39;00m x: [x],\n\u001b[0;32m    699\u001b[0m       forward_function\u001b[38;5;241m=\u001b[39m\u001b[38;5;28;01mlambda\u001b[39;00m x: [x])\n",
      "File \u001b[1;32mD:\\code\\code\\envs\\tensorflow\\lib\\site-packages\\tensorflow\\python\\ops\\resource_variable_ops.py:681\u001b[0m, in \u001b[0;36mBaseResourceVariable._read_variable_op.<locals>.read_and_set_handle\u001b[1;34m()\u001b[0m\n\u001b[0;32m    680\u001b[0m \u001b[38;5;28;01mdef\u001b[39;00m \u001b[38;5;21mread_and_set_handle\u001b[39m():\n\u001b[1;32m--> 681\u001b[0m   result \u001b[38;5;241m=\u001b[39m \u001b[43mgen_resource_variable_ops\u001b[49m\u001b[38;5;241;43m.\u001b[39;49m\u001b[43mread_variable_op\u001b[49m\u001b[43m(\u001b[49m\n\u001b[0;32m    682\u001b[0m \u001b[43m      \u001b[49m\u001b[38;5;28;43mself\u001b[39;49m\u001b[38;5;241;43m.\u001b[39;49m\u001b[43mhandle\u001b[49m\u001b[43m,\u001b[49m\u001b[43m \u001b[49m\u001b[38;5;28;43mself\u001b[39;49m\u001b[38;5;241;43m.\u001b[39;49m\u001b[43m_dtype\u001b[49m\u001b[43m)\u001b[49m\n\u001b[0;32m    683\u001b[0m   _maybe_set_handle_data(\u001b[38;5;28mself\u001b[39m\u001b[38;5;241m.\u001b[39m_dtype, \u001b[38;5;28mself\u001b[39m\u001b[38;5;241m.\u001b[39mhandle, result)\n\u001b[0;32m    684\u001b[0m   \u001b[38;5;28;01mreturn\u001b[39;00m result\n",
      "File \u001b[1;32mD:\\code\\code\\envs\\tensorflow\\lib\\site-packages\\tensorflow\\python\\ops\\gen_resource_variable_ops.py:478\u001b[0m, in \u001b[0;36mread_variable_op\u001b[1;34m(resource, dtype, name)\u001b[0m\n\u001b[0;32m    476\u001b[0m \u001b[38;5;28;01mif\u001b[39;00m tld\u001b[38;5;241m.\u001b[39mis_eager:\n\u001b[0;32m    477\u001b[0m   \u001b[38;5;28;01mtry\u001b[39;00m:\n\u001b[1;32m--> 478\u001b[0m     _result \u001b[38;5;241m=\u001b[39m \u001b[43mpywrap_tfe\u001b[49m\u001b[38;5;241;43m.\u001b[39;49m\u001b[43mTFE_Py_FastPathExecute\u001b[49m\u001b[43m(\u001b[49m\n\u001b[0;32m    479\u001b[0m \u001b[43m      \u001b[49m\u001b[43m_ctx\u001b[49m\u001b[43m,\u001b[49m\u001b[43m \u001b[49m\u001b[38;5;124;43m\"\u001b[39;49m\u001b[38;5;124;43mReadVariableOp\u001b[39;49m\u001b[38;5;124;43m\"\u001b[39;49m\u001b[43m,\u001b[49m\u001b[43m \u001b[49m\u001b[43mname\u001b[49m\u001b[43m,\u001b[49m\u001b[43m \u001b[49m\u001b[43mresource\u001b[49m\u001b[43m,\u001b[49m\u001b[43m \u001b[49m\u001b[38;5;124;43m\"\u001b[39;49m\u001b[38;5;124;43mdtype\u001b[39;49m\u001b[38;5;124;43m\"\u001b[39;49m\u001b[43m,\u001b[49m\u001b[43m \u001b[49m\u001b[43mdtype\u001b[49m\u001b[43m)\u001b[49m\n\u001b[0;32m    480\u001b[0m     \u001b[38;5;28;01mreturn\u001b[39;00m _result\n\u001b[0;32m    481\u001b[0m   \u001b[38;5;28;01mexcept\u001b[39;00m _core\u001b[38;5;241m.\u001b[39m_NotOkStatusException \u001b[38;5;28;01mas\u001b[39;00m e:\n",
      "\u001b[1;31mKeyboardInterrupt\u001b[0m: "
     ]
    }
   ],
   "source": [
    "model.fit(np.array(train_x), np.array(train_y), epochs=200, batch_size=5, verbose=1, validation_data=(X_test, y_test))"
   ]
  },
  {
   "cell_type": "code",
   "execution_count": null,
   "id": "8819002d",
   "metadata": {},
   "outputs": [],
   "source": [
    "classes"
   ]
  },
  {
   "cell_type": "code",
   "execution_count": null,
   "id": "e985141e",
   "metadata": {},
   "outputs": [],
   "source": []
  },
  {
   "cell_type": "code",
   "execution_count": 318,
   "id": "ef56b63a",
   "metadata": {},
   "outputs": [
    {
     "name": "stdout",
     "output_type": "stream",
     "text": [
      "1/1 [==============================] - 0s 108ms/step\n"
     ]
    },
    {
     "data": {
      "text/plain": [
       "array([[0.00649686, 0.11789992, 0.01264151, 0.00294254, 0.00593849,\n",
       "        0.07105346, 0.6035748 , 0.03626235, 0.03446772, 0.00303136,\n",
       "        0.0288733 , 0.07681761]], dtype=float32)"
      ]
     },
     "execution_count": 318,
     "metadata": {},
     "output_type": "execute_result"
    }
   ],
   "source": [
    "A = imp_bag(\"profit\")\n",
    "(model.predict((A,)))"
   ]
  },
  {
   "cell_type": "code",
   "execution_count": null,
   "id": "6fdc59d2",
   "metadata": {},
   "outputs": [],
   "source": []
  },
  {
   "cell_type": "code",
   "execution_count": null,
   "id": "56348e55",
   "metadata": {},
   "outputs": [],
   "source": []
  },
  {
   "cell_type": "code",
   "execution_count": 328,
   "id": "54c649e1",
   "metadata": {
    "scrolled": false
   },
   "outputs": [
    {
     "name": "stdout",
     "output_type": "stream",
     "text": [
      "Hello, I'm Tim\n",
      "hjsdfjhn sjh ndfjsndfjh sd\n",
      "1/1 [==============================] - 0s 52ms/step\n",
      "1/1 [==============================] - 0s 52ms/step\n",
      "ma chuda bosdu\n",
      "hello\n",
      "1/1 [==============================] - 0s 52ms/step\n",
      "1/1 [==============================] - 0s 52ms/step\n",
      "1/1 [==============================] - 0s 51ms/step\n",
      "0.9794845\n",
      "Hello\n",
      "----------------------------------------------------------------------------------------------------\n"
     ]
    },
    {
     "ename": "KeyboardInterrupt",
     "evalue": "Interrupted by user",
     "output_type": "error",
     "traceback": [
      "\u001b[1;31m---------------------------------------------------------------------------\u001b[0m",
      "\u001b[1;31mKeyboardInterrupt\u001b[0m                         Traceback (most recent call last)",
      "Input \u001b[1;32mIn [328]\u001b[0m, in \u001b[0;36m<cell line: 2>\u001b[1;34m()\u001b[0m\n\u001b[0;32m      3\u001b[0m \u001b[38;5;28;01mif\u001b[39;00m(i \u001b[38;5;241m==\u001b[39m \u001b[38;5;241m0\u001b[39m):\n\u001b[0;32m      4\u001b[0m     \u001b[38;5;28mprint\u001b[39m(\u001b[38;5;124m\"\u001b[39m\u001b[38;5;124mHello, I\u001b[39m\u001b[38;5;124m'\u001b[39m\u001b[38;5;124mm Tim\u001b[39m\u001b[38;5;124m\"\u001b[39m)\n\u001b[1;32m----> 5\u001b[0m st \u001b[38;5;241m=\u001b[39m \u001b[38;5;28;43minput\u001b[39;49m\u001b[43m(\u001b[49m\u001b[43m)\u001b[49m\n\u001b[0;32m      6\u001b[0m st \u001b[38;5;241m=\u001b[39m imp_bag(st)\n\u001b[0;32m      7\u001b[0m cl \u001b[38;5;241m=\u001b[39m np\u001b[38;5;241m.\u001b[39margmax(model\u001b[38;5;241m.\u001b[39mpredict((st,)))\n",
      "File \u001b[1;32mD:\\code\\code\\envs\\tensorflow\\lib\\site-packages\\ipykernel\\kernelbase.py:1161\u001b[0m, in \u001b[0;36mKernel.raw_input\u001b[1;34m(self, prompt)\u001b[0m\n\u001b[0;32m   1157\u001b[0m \u001b[38;5;28;01mif\u001b[39;00m \u001b[38;5;129;01mnot\u001b[39;00m \u001b[38;5;28mself\u001b[39m\u001b[38;5;241m.\u001b[39m_allow_stdin:\n\u001b[0;32m   1158\u001b[0m     \u001b[38;5;28;01mraise\u001b[39;00m StdinNotImplementedError(\n\u001b[0;32m   1159\u001b[0m         \u001b[38;5;124m\"\u001b[39m\u001b[38;5;124mraw_input was called, but this frontend does not support input requests.\u001b[39m\u001b[38;5;124m\"\u001b[39m\n\u001b[0;32m   1160\u001b[0m     )\n\u001b[1;32m-> 1161\u001b[0m \u001b[38;5;28;01mreturn\u001b[39;00m \u001b[38;5;28;43mself\u001b[39;49m\u001b[38;5;241;43m.\u001b[39;49m\u001b[43m_input_request\u001b[49m\u001b[43m(\u001b[49m\n\u001b[0;32m   1162\u001b[0m \u001b[43m    \u001b[49m\u001b[38;5;28;43mstr\u001b[39;49m\u001b[43m(\u001b[49m\u001b[43mprompt\u001b[49m\u001b[43m)\u001b[49m\u001b[43m,\u001b[49m\n\u001b[0;32m   1163\u001b[0m \u001b[43m    \u001b[49m\u001b[38;5;28;43mself\u001b[39;49m\u001b[38;5;241;43m.\u001b[39;49m\u001b[43m_parent_ident\u001b[49m\u001b[43m[\u001b[49m\u001b[38;5;124;43m\"\u001b[39;49m\u001b[38;5;124;43mshell\u001b[39;49m\u001b[38;5;124;43m\"\u001b[39;49m\u001b[43m]\u001b[49m\u001b[43m,\u001b[49m\n\u001b[0;32m   1164\u001b[0m \u001b[43m    \u001b[49m\u001b[38;5;28;43mself\u001b[39;49m\u001b[38;5;241;43m.\u001b[39;49m\u001b[43mget_parent\u001b[49m\u001b[43m(\u001b[49m\u001b[38;5;124;43m\"\u001b[39;49m\u001b[38;5;124;43mshell\u001b[39;49m\u001b[38;5;124;43m\"\u001b[39;49m\u001b[43m)\u001b[49m\u001b[43m,\u001b[49m\n\u001b[0;32m   1165\u001b[0m \u001b[43m    \u001b[49m\u001b[43mpassword\u001b[49m\u001b[38;5;241;43m=\u001b[39;49m\u001b[38;5;28;43;01mFalse\u001b[39;49;00m\u001b[43m,\u001b[49m\n\u001b[0;32m   1166\u001b[0m \u001b[43m\u001b[49m\u001b[43m)\u001b[49m\n",
      "File \u001b[1;32mD:\\code\\code\\envs\\tensorflow\\lib\\site-packages\\ipykernel\\kernelbase.py:1205\u001b[0m, in \u001b[0;36mKernel._input_request\u001b[1;34m(self, prompt, ident, parent, password)\u001b[0m\n\u001b[0;32m   1202\u001b[0m             \u001b[38;5;28;01mbreak\u001b[39;00m\n\u001b[0;32m   1203\u001b[0m \u001b[38;5;28;01mexcept\u001b[39;00m \u001b[38;5;167;01mKeyboardInterrupt\u001b[39;00m:\n\u001b[0;32m   1204\u001b[0m     \u001b[38;5;66;03m# re-raise KeyboardInterrupt, to truncate traceback\u001b[39;00m\n\u001b[1;32m-> 1205\u001b[0m     \u001b[38;5;28;01mraise\u001b[39;00m \u001b[38;5;167;01mKeyboardInterrupt\u001b[39;00m(\u001b[38;5;124m\"\u001b[39m\u001b[38;5;124mInterrupted by user\u001b[39m\u001b[38;5;124m\"\u001b[39m) \u001b[38;5;28;01mfrom\u001b[39;00m \u001b[38;5;28mNone\u001b[39m\n\u001b[0;32m   1206\u001b[0m \u001b[38;5;28;01mexcept\u001b[39;00m \u001b[38;5;167;01mException\u001b[39;00m:\n\u001b[0;32m   1207\u001b[0m     \u001b[38;5;28mself\u001b[39m\u001b[38;5;241m.\u001b[39mlog\u001b[38;5;241m.\u001b[39mwarning(\u001b[38;5;124m\"\u001b[39m\u001b[38;5;124mInvalid Message:\u001b[39m\u001b[38;5;124m\"\u001b[39m, exc_info\u001b[38;5;241m=\u001b[39m\u001b[38;5;28;01mTrue\u001b[39;00m)\n",
      "\u001b[1;31mKeyboardInterrupt\u001b[0m: Interrupted by user"
     ]
    }
   ],
   "source": [
    "i = 0\n",
    "while(True):\n",
    "    if(i == 0):\n",
    "        print(\"Hello, I'm Tim, how may I help you\")\n",
    "    st = input()\n",
    "    st = imp_bag(st)\n",
    "    cl = np.argmax(model.predict((st,)))\n",
    "    if(np.amax(model.predict((st,))) < 0.7):\n",
    "        print(\"ma chuda bosdu\")\n",
    "        i = i+1\n",
    "        continue\n",
    "    print(np.amax(model.predict((st,))))\n",
    "    ans = classes[cl]\n",
    "    print(responses[ans][0])\n",
    "    i = i+1\n",
    "    print(\"-\"*100)\n",
    "    "
   ]
  },
  {
   "cell_type": "code",
   "execution_count": null,
   "id": "19cf8d22",
   "metadata": {},
   "outputs": [],
   "source": [
    "adios"
   ]
  },
  {
   "cell_type": "code",
   "execution_count": null,
   "id": "6cc0b8c4",
   "metadata": {},
   "outputs": [],
   "source": []
  },
  {
   "cell_type": "code",
   "execution_count": null,
   "id": "4fb87c8e",
   "metadata": {},
   "outputs": [],
   "source": []
  },
  {
   "cell_type": "code",
   "execution_count": null,
   "id": "0f6c098e",
   "metadata": {},
   "outputs": [],
   "source": []
  },
  {
   "cell_type": "code",
   "execution_count": null,
   "id": "4480d614",
   "metadata": {},
   "outputs": [],
   "source": []
  }
 ],
 "metadata": {
  "kernelspec": {
   "display_name": "Python (tensorflow)",
   "language": "python",
   "name": "tensorflow"
  },
  "language_info": {
   "codemirror_mode": {
    "name": "ipython",
    "version": 3
   },
   "file_extension": ".py",
   "mimetype": "text/x-python",
   "name": "python",
   "nbconvert_exporter": "python",
   "pygments_lexer": "ipython3",
   "version": "3.10.4"
  }
 },
 "nbformat": 4,
 "nbformat_minor": 5
}
